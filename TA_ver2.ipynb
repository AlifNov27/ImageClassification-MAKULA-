{
  "nbformat": 4,
  "nbformat_minor": 0,
  "metadata": {
    "colab": {
      "provenance": [],
      "gpuType": "T4",
      "authorship_tag": "ABX9TyPJs4X6TmUmPvh6mpcnAWBk"
    },
    "kernelspec": {
      "name": "python3",
      "display_name": "Python 3"
    },
    "language_info": {
      "name": "python"
    },
    "accelerator": "GPU"
  },
  "cells": [
    {
      "cell_type": "markdown",
      "source": [
        "Access Dataset from Google Drive"
      ],
      "metadata": {
        "id": "2ekHMDU7yHNq"
      }
    },
    {
      "cell_type": "code",
      "source": [
        "from google.colab import drive\n",
        "\n",
        "drive.mount('/content/drive')\n",
        "\n",
        "data_dir = \"/content/drive/MyDrive/Colab Notebooks/Data\"\n",
        "print(f\"Dataset directory: {data_dir}\")"
      ],
      "metadata": {
        "id": "Xblp0P6PyL0y",
        "colab": {
          "base_uri": "https://localhost:8080/"
        },
        "outputId": "aa94961a-3eef-4c0b-bcb3-01ab15f69b72"
      },
      "execution_count": 36,
      "outputs": [
        {
          "output_type": "stream",
          "name": "stdout",
          "text": [
            "Drive already mounted at /content/drive; to attempt to forcibly remount, call drive.mount(\"/content/drive\", force_remount=True).\n",
            "Dataset directory: /content/drive/MyDrive/Colab Notebooks/Data\n"
          ]
        }
      ]
    },
    {
      "cell_type": "markdown",
      "source": [
        " Importing Libraries and Dependencies"
      ],
      "metadata": {
        "id": "lX4GMNsxySkX"
      }
    },
    {
      "cell_type": "code",
      "source": [
        "import torch\n",
        "import torchvision\n",
        "import torch.nn as nn\n",
        "import torch.optim as optim\n",
        "import torchvision.transforms as transforms\n",
        "from torch.utils.data import DataLoader\n",
        "import matplotlib.pyplot as plt\n",
        "import seaborn as sns\n",
        "from sklearn.metrics import confusion_matrix\n",
        "import numpy as np\n",
        "from torchvision import datasets"
      ],
      "metadata": {
        "id": "veRmGJjRyStU"
      },
      "execution_count": 37,
      "outputs": []
    },
    {
      "cell_type": "markdown",
      "source": [
        "Load Dataset & DataLoader"
      ],
      "metadata": {
        "id": "hElHQMuP0XeF"
      }
    },
    {
      "cell_type": "code",
      "source": [
        "transform = transforms.Compose([\n",
        "    transforms.Resize((224, 224)),\n",
        "    transforms.ToTensor(),\n",
        "    transforms.Normalize(mean=[0.485, 0.456, 0.406], std=[0.229, 0.224, 0.225])\n",
        "])\n",
        "\n",
        "train_dataset = datasets.ImageFolder(root=f\"{data_dir}/train\", transform=transform)\n",
        "val_dataset = datasets.ImageFolder(root=f\"{data_dir}/val\", transform=transform)\n",
        "test_dataset = datasets.ImageFolder(root=f\"{data_dir}/test\", transform=transform)\n",
        "\n",
        "train_loader = DataLoader(train_dataset, batch_size=32, shuffle=True)\n",
        "val_loader = DataLoader(val_dataset, batch_size=32, shuffle=False)\n",
        "test_loader = DataLoader(test_dataset, batch_size=32, shuffle=False)"
      ],
      "metadata": {
        "id": "_rb17Qhy0cQ1"
      },
      "execution_count": 38,
      "outputs": []
    },
    {
      "cell_type": "markdown",
      "source": [
        "Data Augmentation"
      ],
      "metadata": {
        "id": "BiVqxLSQ-br3"
      }
    },
    {
      "cell_type": "code",
      "source": [
        "# # Path ke dataset\n",
        "# DATA_DIR = \"/content/drive/MyDrive/Colab Notebooks/Data\"\n",
        "\n",
        "# # Transformasi dengan augmentasi khusus untuk citra OCT makula mata\n",
        "# transform = transforms.Compose([\n",
        "#     transforms.RandomHorizontalFlip(p=0.5),  # Membalik gambar secara horizontal dengan probabilitas 50%\n",
        "#     transforms.RandomRotation(10),  # Rotasi kecil hingga 10 derajat\n",
        "#     transforms.ColorJitter(brightness=0.1, contrast=0.1),  # Variasi brightness & contrast ringan\n",
        "#     transforms.GaussianBlur(kernel_size=(3, 3)),  # Menambahkan blur ringan untuk meningkatkan ketahanan model\n",
        "#     transforms.RandomResizedCrop(224, scale=(0.9, 1.0)),  # Crop kecil agar tetap sesuai\n",
        "#     transforms.ToTensor(),  # Konversi ke tensor\n",
        "#     transforms.Normalize(mean=[0.485, 0.456, 0.406], std=[0.229, 0.224, 0.225])  # Normalisasi\n",
        "# ])\n",
        "\n",
        "# # Load dataset dengan transformasi augmentasi\n",
        "# dataset = datasets.ImageFolder(root=f\"{DATA_DIR}/train\", transform=transform)\n",
        "# data_loader = DataLoader(dataset, batch_size=16, shuffle=True)\n",
        "\n",
        "# # Fungsi untuk menampilkan beberapa gambar hasil augmentasi\n",
        "# def show_augmented_images(data_loader):\n",
        "#     images, labels = next(iter(data_loader))\n",
        "#     fig, axes = plt.subplots(2, 8, figsize=(12, 5))\n",
        "#     for i, ax in enumerate(axes.flat):\n",
        "#         img = images[i].permute(1, 2, 0).numpy()\n",
        "#         img = img * [0.229, 0.224, 0.225] + [0.485, 0.456, 0.406]  # Denormalisasi\n",
        "#         img = img.clip(0, 1)\n",
        "#         ax.imshow(img)\n",
        "#         ax.axis('off')\n",
        "#     plt.show()\n",
        "\n",
        "# # Menampilkan hasil augmentasi\n",
        "# show_augmented_images(data_loader)"
      ],
      "metadata": {
        "id": "E4eriDrE-cIa"
      },
      "execution_count": 39,
      "outputs": []
    },
    {
      "cell_type": "markdown",
      "source": [
        "Implementasi Model Transfer Learning Arsitektur VGG19"
      ],
      "metadata": {
        "id": "sFZfmIUAyS6y"
      }
    },
    {
      "cell_type": "code",
      "source": [
        "model = torchvision.models.vgg19(weights=torchvision.models.VGG19_Weights.DEFAULT)"
      ],
      "metadata": {
        "id": "Fz4TIVRwyTCT"
      },
      "execution_count": 40,
      "outputs": []
    },
    {
      "cell_type": "markdown",
      "source": [
        " Inisiasi Parameter Pengujian Fine-Tuning & Freezing Layer"
      ],
      "metadata": {
        "id": "7SbH6SAkyTMM"
      }
    },
    {
      "cell_type": "code",
      "source": [
        "# Pilihan Fine-Tuning (True = Fine-Tuning, False = Freezing Layer)\n",
        "fine_tuning = True  # Ubah ke False jika ingin membekukan semua layer kecuali classifier\n",
        "\n",
        "# Konfigurasi Fine-Tuning / Freezing Layer\n",
        "if fine_tuning:\n",
        "    print(\"Fine-Tuning Mode: Semua layer fitur diaktifkan untuk training.\")\n",
        "    for param in model.features.parameters():\n",
        "        param.requires_grad = True  # Semua layer fitur dapat dilatih\n",
        "else:\n",
        "    print(\"Freezing Mode: Membekukan semua layer fitur, hanya classifier yang dilatih.\")\n",
        "    for param in model.features.parameters():\n",
        "        param.requires_grad = False  # Membekukan layer fitur\n",
        "\n",
        "    # Hanya classifier yang dilatih\n",
        "    for param in model.classifier.parameters():\n",
        "        param.requires_grad = True\n",
        "\n",
        "# Menyesuaikan jumlah kelas untuk klasifikasi (4 kelas)\n",
        "num_classes = 4\n",
        "# Sesuaikan layer pertama dengan output feature extractor (misalnya 25088 untuk VGG16)\n",
        "model.classifier = nn.Sequential(\n",
        "    nn.Linear(in_features=25088, out_features=4096),\n",
        "    nn.ReLU(),\n",
        "    nn.Dropout(0.3),\n",
        "    nn.Linear(in_features=4096, out_features=1024),\n",
        "    nn.ReLU(),\n",
        "    nn.Dropout(0.3),\n",
        "    nn.Linear(in_features=1024, out_features=num_classes)\n",
        ")\n",
        "# Menjalankan model di GPU jika tersedia\n",
        "device = torch.device(\"cuda\" if torch.cuda.is_available() else \"cpu\")\n",
        "model = model.to(device)\n",
        "# Loss function\n",
        "criterion = nn.CrossEntropyLoss()\n",
        "# Optimizer hanya akan memperbarui parameter yang memiliki requires_grad=True\n",
        "optimizer = optim.Adam(filter(lambda p: p.requires_grad, model.parameters()), lr=0.000005, weight_decay=1e-4)\n",
        "# Scheduler untuk menurunkan lr saat validation loss stagnan\n",
        "scheduler = optim.lr_scheduler.ReduceLROnPlateau(optimizer, mode='min', factor=0.1, patience=2, verbose=True)\n"
      ],
      "metadata": {
        "id": "yCVxPEvhyTVC",
        "colab": {
          "base_uri": "https://localhost:8080/"
        },
        "outputId": "552be79d-8215-4830-96ea-355039722673"
      },
      "execution_count": 41,
      "outputs": [
        {
          "output_type": "stream",
          "name": "stdout",
          "text": [
            "Fine-Tuning Mode: Semua layer fitur diaktifkan untuk training.\n"
          ]
        }
      ]
    },
    {
      "cell_type": "code",
      "source": [
        "# #MENURUNKAN LR JIKA validation loss stagnan\n",
        "# from tensorflow.keras.callbacks import ReduceLROnPlateau\n",
        "# reduce_lr = ReduceLROnPlateau(monitor='val_loss', factor=0.5, patience=3, min_lr=1e-6, verbose=1)"
      ],
      "metadata": {
        "id": "urjnavOVoE_O"
      },
      "execution_count": 42,
      "outputs": []
    },
    {
      "cell_type": "markdown",
      "source": [
        " Train dan Validation Function serta Menampilkan Proses Training Model VGG19"
      ],
      "metadata": {
        "id": "0CN-cyCYyTdb"
      }
    },
    {
      "cell_type": "code",
      "source": [
        "from tqdm import tqdm  # Import tqdm untuk progress bar\n",
        "import torch.nn as nn\n",
        "import torch.optim as optim\n",
        "\n",
        "def train(model, device, train_loader, optimizer, criterion, epoch):\n",
        "    model.train()  # Set model ke mode training\n",
        "    running_loss = 0.0\n",
        "    correct = 0\n",
        "    total_samples = len(train_loader.dataset)\n",
        "\n",
        "    tk0 = tqdm(train_loader, total=len(train_loader), desc=f\"Epoch {epoch}\")\n",
        "\n",
        "    for batch_idx, (data, target) in enumerate(tk0):\n",
        "        data, target = data.to(device), target.to(device)  # Memindahkan data ke GPU jika tersedia\n",
        "        optimizer.zero_grad()  # Reset gradien optimizer\n",
        "        output = model(data)  # Forward pass\n",
        "        loss = criterion(output, target)  # Hitung loss\n",
        "        loss.backward()  # Backpropagation\n",
        "        optimizer.step()  # Update bobot model\n",
        "\n",
        "        preds = torch.argmax(output, dim=1)  # Ambil kelas dengan probabilitas tertinggi\n",
        "        correct += torch.sum(preds == target).item()\n",
        "        running_loss += loss.item()\n",
        "\n",
        "        tk0.set_postfix(loss=running_loss / (batch_idx + 1))  # Menampilkan loss secara real-time\n",
        "\n",
        "    epoch_loss = running_loss / len(train_loader)  # Hitung rata-rata loss\n",
        "    epoch_acc = correct / total_samples  # Hitung akurasi\n",
        "    print(f\"Train Loss: {epoch_loss:.4f} | Train Accuracy: {epoch_acc:.4f}\")\n",
        "\n",
        "    # Jika akurasi melebihi 0.98, kurangi learning rate untuk menghindari overfitting\n",
        "    if epoch_acc >= 0.98:\n",
        "        for param_group in optimizer.param_groups:\n",
        "            param_group['lr'] *= 0.5  # Kurangi learning rate agar model tidak overfitting\n",
        "        print(f\"Reducing learning rate to {param_group['lr']}\")\n",
        "\n",
        "    return epoch_loss, epoch_acc\n",
        "\n",
        "def validate(model, device, val_loader, criterion):\n",
        "    model.eval()  # Set model ke mode evaluasi\n",
        "    val_loss = 0.0\n",
        "    correct = 0\n",
        "    total_samples = len(val_loader.dataset)\n",
        "\n",
        "    with torch.no_grad():  # Tidak perlu menghitung gradien saat validasi\n",
        "        for data, target in val_loader:\n",
        "            data, target = data.to(device), target.to(device)\n",
        "            output = model(data)\n",
        "            loss = criterion(output, target)\n",
        "            val_loss += loss.item()\n",
        "            preds = torch.argmax(output, dim=1)\n",
        "            correct += torch.sum(preds == target).item()\n",
        "\n",
        "    val_loss /= len(val_loader)\n",
        "    val_acc = correct / total_samples\n",
        "    print(f\"Validation Loss: {val_loss:.4f} | Validation Accuracy: {val_acc:.4f}\")\n",
        "    return val_loss, val_acc\n",
        "\n",
        "# Melatih model dan mencatat hasilnya\n",
        "num_epochs = 10\n",
        "train_losses, val_losses = [], []\n",
        "train_accs, val_accs = [], []\n",
        "\n",
        "# # Inisialisasi Early Stopping\n",
        "# best_val_loss = float('inf')\n",
        "# early_stop_counter = 0\n",
        "# early_stop_patience = 3  # Hentikan training jika val_loss tidak membaik dalam 3 epoch\n",
        "\n",
        "for epoch in range(1, num_epochs + 1):\n",
        "    train_loss, train_acc = train(model, device, train_loader, optimizer, criterion, epoch)\n",
        "    val_loss, val_acc = validate(model, device, val_loader, criterion)\n",
        "    train_losses.append(train_loss)\n",
        "    val_losses.append(val_loss)\n",
        "    train_accs.append(train_acc)\n",
        "    val_accs.append(val_acc)\n",
        "    scheduler.step(val_loss)  # Update learning rate jika diperlukan\n",
        "\n",
        "    # # Early Stopping\n",
        "    # if val_loss < best_val_loss:\n",
        "    #     best_val_loss = val_loss\n",
        "    #     early_stop_counter = 0  # Reset counter jika val_loss membaik\n",
        "    # else:\n",
        "    #     early_stop_counter += 1\n",
        "    #     print(f\"Early stopping counter: {early_stop_counter}/{early_stop_patience}\")\n",
        "    #     if early_stop_counter >= early_stop_patience:\n",
        "    #         print(\"Early stopping triggered. Stopping training.\")\n",
        "    #         break\n",
        "\n",
        "# Menampilkan grafik loss dan akurasi\n",
        "plt.figure(figsize=(12, 5))\n",
        "\n",
        "# Grafik Loss\n",
        "plt.subplot(1, 2, 1)\n",
        "plt.plot([0] + list(range(1, num_epochs + 1)), [train_losses[0]] + train_losses, label='Train Loss', marker='o')\n",
        "plt.plot([0] + list(range(1, num_epochs + 1)), [val_losses[0]] + val_losses, label='Validation Loss', marker='o')\n",
        "plt.xlabel('Epochs')\n",
        "plt.ylabel('Loss')\n",
        "plt.xticks(range(0, num_epochs + 1))  # Memastikan sumbu x dimulai dari 0\n",
        "plt.legend()\n",
        "plt.title('Training vs Validation Loss')\n",
        "\n",
        "# Grafik Akurasi\n",
        "plt.subplot(1, 2, 2)\n",
        "plt.plot([0] + list(range(1, num_epochs + 1)), [train_accs[0]] + train_accs, label='Train Accuracy', marker='o')\n",
        "plt.plot([0] + list(range(1, num_epochs + 1)), [val_accs[0]] + val_accs, label='Validation Accuracy', marker='o')\n",
        "plt.xlabel('Epochs')\n",
        "plt.ylabel('Accuracy')\n",
        "plt.xticks(range(0, num_epochs + 1))  # Memastikan sumbu x dimulai dari 0\n",
        "plt.legend()\n",
        "plt.title('Training vs Validation Accuracy')\n",
        "\n",
        "plt.show()\n"
      ],
      "metadata": {
        "id": "TgnE5rmtyTm3",
        "colab": {
          "base_uri": "https://localhost:8080/",
          "height": 1000
        },
        "outputId": "a380448a-9726-4c45-9da6-b416f8036d95"
      },
      "execution_count": 43,
      "outputs": [
        {
          "output_type": "stream",
          "name": "stderr",
          "text": [
            "Epoch 1: 100%|██████████| 100/100 [01:33<00:00,  1.07it/s, loss=0.867]\n"
          ]
        },
        {
          "output_type": "stream",
          "name": "stdout",
          "text": [
            "Train Loss: 0.8671 | Train Accuracy: 0.6694\n",
            "Validation Loss: 0.3183 | Validation Accuracy: 0.8875\n"
          ]
        },
        {
          "output_type": "stream",
          "name": "stderr",
          "text": [
            "Epoch 2: 100%|██████████| 100/100 [01:26<00:00,  1.16it/s, loss=0.229]\n"
          ]
        },
        {
          "output_type": "stream",
          "name": "stdout",
          "text": [
            "Train Loss: 0.2286 | Train Accuracy: 0.9191\n",
            "Validation Loss: 0.1820 | Validation Accuracy: 0.9325\n"
          ]
        },
        {
          "output_type": "stream",
          "name": "stderr",
          "text": [
            "Epoch 3: 100%|██████████| 100/100 [01:26<00:00,  1.15it/s, loss=0.13]\n"
          ]
        },
        {
          "output_type": "stream",
          "name": "stdout",
          "text": [
            "Train Loss: 0.1303 | Train Accuracy: 0.9553\n",
            "Validation Loss: 0.1741 | Validation Accuracy: 0.9363\n"
          ]
        },
        {
          "output_type": "stream",
          "name": "stderr",
          "text": [
            "Epoch 4: 100%|██████████| 100/100 [01:26<00:00,  1.16it/s, loss=0.0772]\n"
          ]
        },
        {
          "output_type": "stream",
          "name": "stdout",
          "text": [
            "Train Loss: 0.0772 | Train Accuracy: 0.9734\n",
            "Validation Loss: 0.1528 | Validation Accuracy: 0.9425\n"
          ]
        },
        {
          "output_type": "stream",
          "name": "stderr",
          "text": [
            "Epoch 5: 100%|██████████| 100/100 [01:26<00:00,  1.16it/s, loss=0.0446]\n"
          ]
        },
        {
          "output_type": "stream",
          "name": "stdout",
          "text": [
            "Train Loss: 0.0446 | Train Accuracy: 0.9875\n",
            "Reducing learning rate to 2.5e-06\n",
            "Validation Loss: 0.1507 | Validation Accuracy: 0.9525\n"
          ]
        },
        {
          "output_type": "stream",
          "name": "stderr",
          "text": [
            "Epoch 6: 100%|██████████| 100/100 [01:26<00:00,  1.16it/s, loss=0.0193]\n"
          ]
        },
        {
          "output_type": "stream",
          "name": "stdout",
          "text": [
            "Train Loss: 0.0193 | Train Accuracy: 0.9956\n",
            "Reducing learning rate to 1.25e-06\n",
            "Validation Loss: 0.1526 | Validation Accuracy: 0.9463\n"
          ]
        },
        {
          "output_type": "stream",
          "name": "stderr",
          "text": [
            "Epoch 7: 100%|██████████| 100/100 [01:25<00:00,  1.16it/s, loss=0.0135]\n"
          ]
        },
        {
          "output_type": "stream",
          "name": "stdout",
          "text": [
            "Train Loss: 0.0135 | Train Accuracy: 0.9969\n",
            "Reducing learning rate to 6.25e-07\n",
            "Validation Loss: 0.1502 | Validation Accuracy: 0.9463\n"
          ]
        },
        {
          "output_type": "stream",
          "name": "stderr",
          "text": [
            "Epoch 8: 100%|██████████| 100/100 [01:25<00:00,  1.16it/s, loss=0.0108]\n"
          ]
        },
        {
          "output_type": "stream",
          "name": "stdout",
          "text": [
            "Train Loss: 0.0108 | Train Accuracy: 0.9988\n",
            "Reducing learning rate to 3.125e-07\n",
            "Validation Loss: 0.1530 | Validation Accuracy: 0.9500\n"
          ]
        },
        {
          "output_type": "stream",
          "name": "stderr",
          "text": [
            "Epoch 9: 100%|██████████| 100/100 [01:25<00:00,  1.16it/s, loss=0.00908]\n"
          ]
        },
        {
          "output_type": "stream",
          "name": "stdout",
          "text": [
            "Train Loss: 0.0091 | Train Accuracy: 0.9984\n",
            "Reducing learning rate to 1.5625e-07\n",
            "Validation Loss: 0.1531 | Validation Accuracy: 0.9463\n"
          ]
        },
        {
          "output_type": "stream",
          "name": "stderr",
          "text": [
            "Epoch 10: 100%|██████████| 100/100 [01:26<00:00,  1.16it/s, loss=0.00954]\n"
          ]
        },
        {
          "output_type": "stream",
          "name": "stdout",
          "text": [
            "Train Loss: 0.0095 | Train Accuracy: 0.9975\n",
            "Reducing learning rate to 7.8125e-08\n",
            "Validation Loss: 0.1537 | Validation Accuracy: 0.9450\n"
          ]
        },
        {
          "output_type": "display_data",
          "data": {
            "text/plain": [
              "<Figure size 1200x500 with 2 Axes>"
            ],
            "image/png": "[encoded data removed]"
          },
          "metadata": {}
        }
      ]
    },
    {
      "cell_type": "markdown",
      "source": [
        "Evaluasi Model dengan Confusion Matrix"
      ],
      "metadata": {
        "id": "8xReAG8IzBoO"
      }
    },
    {
      "cell_type": "code",
      "source": [
        "def evaluate(model, device, test_loader):\n",
        "    model.eval()\n",
        "    all_preds = []\n",
        "    all_labels = []\n",
        "    with torch.no_grad():\n",
        "        for data, target in test_loader:\n",
        "            data, target = data.to(device), target.to(device)\n",
        "            output = model(data)\n",
        "            preds = torch.argmax(output, dim=1)\n",
        "            all_preds.extend(preds.cpu().numpy())\n",
        "            all_labels.extend(target.cpu().numpy())\n",
        "    cm = confusion_matrix(all_labels, all_preds)\n",
        "    plt.figure(figsize=(6, 6))\n",
        "    sns.heatmap(cm, annot=True, fmt='d', cmap='Blues', xticklabels=range(num_classes), yticklabels=range(num_classes))\n",
        "    plt.xlabel('Predicted Label')\n",
        "    plt.ylabel('True Label')\n",
        "    plt.title('Confusion Matrix')\n",
        "    plt.show()\n",
        "\n",
        "evaluate(model, device, test_loader)"
      ],
      "metadata": {
        "id": "nFCsbGw-zByI",
        "colab": {
          "base_uri": "https://localhost:8080/",
          "height": 564
        },
        "outputId": "b717ccdd-d688-4b8b-9fd8-dede9cc40630"
      },
      "execution_count": 44,
      "outputs": [
        {
          "output_type": "display_data",
          "data": {
            "text/plain": [
              "<Figure size 600x600 with 2 Axes>"
            ],
            "image/png": "[encoded data removed]"
          },
          "metadata": {}
        }
      ]
    },
    {
      "cell_type": "code",
      "source": [
        "# !pip install streamlit"
      ],
      "metadata": {
        "id": "P_ygy8iVU5Xi"
      },
      "execution_count": 45,
      "outputs": []
    }
  ]
}